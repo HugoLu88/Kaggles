{
 "cells": [
  {
   "cell_type": "markdown",
   "metadata": {},
   "source": [
    "### Description"
   ]
  },
  {
   "cell_type": "code",
   "execution_count": 1,
   "metadata": {},
   "outputs": [],
   "source": [
    "### This code aims to classify the survival classification for titanic members"
   ]
  },
  {
   "cell_type": "markdown",
   "metadata": {},
   "source": [
    "### Imports"
   ]
  },
  {
   "cell_type": "code",
   "execution_count": 2,
   "metadata": {},
   "outputs": [],
   "source": [
    "import pandas as pd\n",
    "\n",
    "import numpy as np\n",
    "from datetime import datetime\n",
    "import xlsxwriter\n",
    "import string\n",
    "import os\n",
    "import re\n",
    "import matplotlib.pyplot as plt\n",
    "from statsmodels.tsa.stattools import adfuller\n",
    "import statsmodels.api as sm\n",
    "from scipy import stats\n",
    "from numpy.random import seed\n",
    "from numpy.random import randn\n",
    "from scipy.stats import shapiro\n",
    "from sklearn.neighbors import KernelDensity\n",
    "import seaborn as sns\n",
    "import cvxpy as cp\n",
    "from scipy.optimize import minimize"
   ]
  },
  {
   "cell_type": "code",
   "execution_count": 3,
   "metadata": {},
   "outputs": [],
   "source": [
    "from scipy.optimize import minimize"
   ]
  },
  {
   "cell_type": "markdown",
   "metadata": {},
   "source": [
    "## Specify parameters [1]"
   ]
  },
  {
   "cell_type": "code",
   "execution_count": 402,
   "metadata": {},
   "outputs": [],
   "source": [
    "\n",
    "\n",
    "test_data = r\"C:\\Users\\hugo.lu\\repos\\repos_backup\\Kaggles\\1. Titanic\\test.csv\"\n",
    "train_data = r\"C:\\Users\\hugo.lu\\repos\\repos_backup\\Kaggles\\1. Titanic\\train.csv\"\n",
    "\n"
   ]
  },
  {
   "cell_type": "markdown",
   "metadata": {},
   "source": [
    "## Specify data"
   ]
  },
  {
   "cell_type": "code",
   "execution_count": 403,
   "metadata": {},
   "outputs": [],
   "source": [
    "test_data = pd.read_csv(filepath_or_buffer = test_data, index_col = 0)"
   ]
  },
  {
   "cell_type": "code",
   "execution_count": 404,
   "metadata": {},
   "outputs": [],
   "source": [
    "train_data = pd.read_csv(filepath_or_buffer = train_data, index_col = 0)"
   ]
  },
  {
   "cell_type": "code",
   "execution_count": 405,
   "metadata": {},
   "outputs": [],
   "source": [
    "test_data.head(5)\n",
    "test_data = test_data.reset_index()"
   ]
  },
  {
   "cell_type": "code",
   "execution_count": 406,
   "metadata": {},
   "outputs": [],
   "source": [
    "train_data.head(5)\n",
    "train_data=train_data.reset_index()"
   ]
  },
  {
   "cell_type": "markdown",
   "metadata": {},
   "source": [
    "## State thesis and clean data"
   ]
  },
  {
   "cell_type": "code",
   "execution_count": 414,
   "metadata": {},
   "outputs": [],
   "source": [
    "#Thesis: survivors depend on pclass,sex, age, SibSp, Cabin type, and possibly embarkation\n",
    "def make_bool(df,cols):\n",
    "    new_df = df.copy(deep = True) ## do not edit in place\n",
    "    for item in cols:\n",
    "        vals = list(new_df[item].drop_duplicates())\n",
    "        #print(vals)\n",
    "        #col = list(row.columns)[0]\n",
    "        for i,j in enumerate(vals):\n",
    "            #print(i)\n",
    "            #print(j)\n",
    "            new_df.at[(new_df[item] ==j) ,item+str(\"_edit\")] = i ## Need to create a new column to avoid overwriting\n",
    "        new_df[item] = new_df[item+str(\"_edit\")] ## set new column to old column\n",
    "    return new_df\n",
    "\n",
    "## Based on the data, having cabin as NA also seems to be a good divisor of socioeconomic class.\n",
    "\n",
    "## Therefore this is added as a new variable instead of cabin number. Looking at cabin number seems to provide no indication\n",
    "## of anything really"
   ]
  },
  {
   "cell_type": "code",
   "execution_count": 415,
   "metadata": {},
   "outputs": [],
   "source": [
    "x_vars = []\n",
    "for item in list(train_data.columns):\n",
    "    x_vars.append(item)\n",
    "bool_converts =[\"Survived\", \"Pclass\", \"Sex\", \"Cabin\",\"Embarked\"]\n",
    "train_data_copy = train_data.copy(deep = True)\n",
    "\n"
   ]
  },
  {
   "cell_type": "code",
   "execution_count": 416,
   "metadata": {},
   "outputs": [
    {
     "name": "stdout",
     "output_type": "stream",
     "text": [
      "[0, 1]\n",
      "0\n",
      "0\n",
      "1\n",
      "1\n",
      "[3, 1, 2]\n",
      "0\n",
      "3\n",
      "1\n",
      "1\n",
      "2\n",
      "2\n",
      "['male', 'female']\n",
      "0\n",
      "male\n",
      "1\n",
      "female\n",
      "[nan, 'C85', 'C123', 'E46', 'G6', 'C103', 'D56', 'A6', 'C23 C25 C27', 'B78', 'D33', 'B30', 'C52', 'B28', 'C83', 'F33', 'F G73', 'E31', 'A5', 'D10 D12', 'D26', 'C110', 'B58 B60', 'E101', 'F E69', 'D47', 'B86', 'F2', 'C2', 'E33', 'B19', 'A7', 'C49', 'F4', 'A32', 'B4', 'B80', 'A31', 'D36', 'D15', 'C93', 'C78', 'D35', 'C87', 'B77', 'E67', 'B94', 'C125', 'C99', 'C118', 'D7', 'A19', 'B49', 'D', 'C22 C26', 'C106', 'C65', 'E36', 'C54', 'B57 B59 B63 B66', 'C7', 'E34', 'C32', 'B18', 'C124', 'C91', 'E40', 'T', 'C128', 'D37', 'B35', 'E50', 'C82', 'B96 B98', 'E10', 'E44', 'A34', 'C104', 'C111', 'C92', 'E38', 'D21', 'E12', 'E63', 'A14', 'B37', 'C30', 'D20', 'B79', 'E25', 'D46', 'B73', 'C95', 'B38', 'B39', 'B22', 'C86', 'C70', 'A16', 'C101', 'C68', 'A10', 'E68', 'B41', 'A20', 'D19', 'D50', 'D9', 'A23', 'B50', 'A26', 'D48', 'E58', 'C126', 'B71', 'B51 B53 B55', 'D49', 'B5', 'B20', 'F G63', 'C62 C64', 'E24', 'C90', 'C45', 'E8', 'B101', 'D45', 'C46', 'D30', 'E121', 'D11', 'E77', 'F38', 'B3', 'D6', 'B82 B84', 'D17', 'A36', 'B102', 'B69', 'E49', 'C47', 'D28', 'E17', 'A24', 'C50', 'B42', 'C148']\n",
      "0\n",
      "nan\n",
      "1\n",
      "C85\n",
      "2\n",
      "C123\n",
      "3\n",
      "E46\n",
      "4\n",
      "G6\n",
      "5\n",
      "C103\n",
      "6\n",
      "D56\n",
      "7\n",
      "A6\n",
      "8\n",
      "C23 C25 C27\n",
      "9\n",
      "B78\n",
      "10\n",
      "D33\n",
      "11\n",
      "B30\n",
      "12\n",
      "C52\n",
      "13\n",
      "B28\n",
      "14\n",
      "C83\n",
      "15\n",
      "F33\n",
      "16\n",
      "F G73\n",
      "17\n",
      "E31\n",
      "18\n",
      "A5\n",
      "19\n",
      "D10 D12\n",
      "20\n",
      "D26\n",
      "21\n",
      "C110\n",
      "22\n",
      "B58 B60\n",
      "23\n",
      "E101\n",
      "24\n",
      "F E69\n",
      "25\n",
      "D47\n",
      "26\n",
      "B86\n",
      "27\n",
      "F2\n",
      "28\n",
      "C2\n",
      "29\n",
      "E33\n",
      "30\n",
      "B19\n",
      "31\n",
      "A7\n",
      "32\n",
      "C49\n",
      "33\n",
      "F4\n",
      "34\n",
      "A32\n",
      "35\n",
      "B4\n",
      "36\n",
      "B80\n",
      "37\n",
      "A31\n",
      "38\n",
      "D36\n",
      "39\n",
      "D15\n",
      "40\n",
      "C93\n",
      "41\n",
      "C78\n",
      "42\n",
      "D35\n",
      "43\n",
      "C87\n",
      "44\n",
      "B77\n",
      "45\n",
      "E67\n",
      "46\n",
      "B94\n",
      "47\n",
      "C125\n",
      "48\n",
      "C99\n",
      "49\n",
      "C118\n",
      "50\n",
      "D7\n",
      "51\n",
      "A19\n",
      "52\n",
      "B49\n",
      "53\n",
      "D\n",
      "54\n",
      "C22 C26\n",
      "55\n",
      "C106\n",
      "56\n",
      "C65\n",
      "57\n",
      "E36\n",
      "58\n",
      "C54\n",
      "59\n",
      "B57 B59 B63 B66\n",
      "60\n",
      "C7\n",
      "61\n",
      "E34\n",
      "62\n",
      "C32\n",
      "63\n",
      "B18\n",
      "64\n",
      "C124\n",
      "65\n",
      "C91\n",
      "66\n",
      "E40\n",
      "67\n",
      "T\n",
      "68\n",
      "C128\n",
      "69\n",
      "D37\n",
      "70\n",
      "B35\n",
      "71\n",
      "E50\n",
      "72\n",
      "C82\n",
      "73\n",
      "B96 B98\n",
      "74\n",
      "E10\n",
      "75\n",
      "E44\n",
      "76\n",
      "A34\n",
      "77\n",
      "C104\n",
      "78\n",
      "C111\n",
      "79\n",
      "C92\n",
      "80\n",
      "E38\n",
      "81\n",
      "D21\n",
      "82\n",
      "E12\n",
      "83\n",
      "E63\n",
      "84\n",
      "A14\n",
      "85\n",
      "B37\n",
      "86\n",
      "C30\n",
      "87\n",
      "D20\n",
      "88\n",
      "B79\n",
      "89\n",
      "E25\n",
      "90\n",
      "D46\n",
      "91\n",
      "B73\n",
      "92\n",
      "C95\n",
      "93\n",
      "B38\n",
      "94\n",
      "B39\n",
      "95\n",
      "B22\n",
      "96\n",
      "C86\n",
      "97\n",
      "C70\n",
      "98\n",
      "A16\n",
      "99\n",
      "C101\n",
      "100\n",
      "C68\n",
      "101\n",
      "A10\n",
      "102\n",
      "E68\n",
      "103\n",
      "B41\n",
      "104\n",
      "A20\n",
      "105\n",
      "D19\n",
      "106\n",
      "D50\n",
      "107\n",
      "D9\n",
      "108\n",
      "A23\n",
      "109\n",
      "B50\n",
      "110\n",
      "A26\n",
      "111\n",
      "D48\n",
      "112\n",
      "E58\n",
      "113\n",
      "C126\n",
      "114\n",
      "B71\n",
      "115\n",
      "B51 B53 B55\n",
      "116\n",
      "D49\n",
      "117\n",
      "B5\n",
      "118\n",
      "B20\n",
      "119\n",
      "F G63\n",
      "120\n",
      "C62 C64\n",
      "121\n",
      "E24\n",
      "122\n",
      "C90\n",
      "123\n",
      "C45\n",
      "124\n",
      "E8\n",
      "125\n",
      "B101\n",
      "126\n",
      "D45\n",
      "127\n",
      "C46\n",
      "128\n",
      "D30\n",
      "129\n",
      "E121\n",
      "130\n",
      "D11\n",
      "131\n",
      "E77\n",
      "132\n",
      "F38\n",
      "133\n",
      "B3\n",
      "134\n",
      "D6\n",
      "135\n",
      "B82 B84\n",
      "136\n",
      "D17\n",
      "137\n",
      "A36\n",
      "138\n",
      "B102\n",
      "139\n",
      "B69\n",
      "140\n",
      "E49\n",
      "141\n",
      "C47\n",
      "142\n",
      "D28\n",
      "143\n",
      "E17\n",
      "144\n",
      "A24\n",
      "145\n",
      "C50\n",
      "146\n",
      "B42\n",
      "147\n",
      "C148\n",
      "['S', 'C', 'Q', nan]\n",
      "0\n",
      "S\n",
      "1\n",
      "C\n",
      "2\n",
      "Q\n",
      "3\n",
      "nan\n"
     ]
    }
   ],
   "source": [
    "train_data_copy = make_bool(train_data_copy,bool_converts) "
   ]
  },
  {
   "cell_type": "code",
   "execution_count": 417,
   "metadata": {},
   "outputs": [],
   "source": [
    "def remove_nans(df,col,how_to):\n",
    "    if how_to == \"kde\":\n",
    "        no_nans = df[col].dropna()\n",
    "        num_nans = df[col].isnull().sum()\n",
    "        print(num_nans)\n",
    "        x = np.array(no_nans)\n",
    "        xs = np.linspace(min(no_nans),max(no_nans),1000)\n",
    "        # expects n x p matrix with p features\n",
    "        x.shape = (len(x), 1)\n",
    "        xs.shape = (len(xs), 1)\n",
    "        #### Question@ is this the correct KDE to use? Probably can be refined and generalised....\n",
    "        kde = KernelDensity(bandwidth=((max(no_nans)- min(no_nans))/30)).fit(x)\n",
    "        dens = np.exp(kde.score_samples(xs))\n",
    "        #plt.plot(xs, dens)\n",
    "        probs = dens / sum(dens)\n",
    "        xs_comma = np.reshape(xs,newshape = (len(xs),))\n",
    "        mc = np.random.choice(xs_comma, size=num_nans, replace=True, p=probs)\n",
    "        print(len(mc))\n",
    "        df.loc[df[col].isnull(), col] = list(mc)\n",
    "        return df\n",
    "    else: \n",
    "        print(\"other\")\n",
    "\n"
   ]
  },
  {
   "cell_type": "code",
   "execution_count": 418,
   "metadata": {},
   "outputs": [
    {
     "name": "stdout",
     "output_type": "stream",
     "text": [
      "177\n",
      "177\n"
     ]
    }
   ],
   "source": [
    "train_data_copy = remove_nans(train_data_copy,\"Age\",\"kde\")\n",
    "train_data_copy['Cabin_edit'] = train_data_copy['Cabin'].apply(lambda x: 1 if np.isnan(x)else 0)"
   ]
  },
  {
   "cell_type": "code",
   "execution_count": 419,
   "metadata": {},
   "outputs": [
    {
     "data": {
      "text/html": [
       "<div>\n",
       "<style scoped>\n",
       "    .dataframe tbody tr th:only-of-type {\n",
       "        vertical-align: middle;\n",
       "    }\n",
       "\n",
       "    .dataframe tbody tr th {\n",
       "        vertical-align: top;\n",
       "    }\n",
       "\n",
       "    .dataframe thead th {\n",
       "        text-align: right;\n",
       "    }\n",
       "</style>\n",
       "<table border=\"1\" class=\"dataframe\">\n",
       "  <thead>\n",
       "    <tr style=\"text-align: right;\">\n",
       "      <th></th>\n",
       "      <th>PassengerId</th>\n",
       "      <th>Survived</th>\n",
       "      <th>Pclass</th>\n",
       "      <th>Name</th>\n",
       "      <th>Sex</th>\n",
       "      <th>Age</th>\n",
       "      <th>SibSp</th>\n",
       "      <th>Parch</th>\n",
       "      <th>Ticket</th>\n",
       "      <th>Fare</th>\n",
       "      <th>Cabin</th>\n",
       "      <th>Embarked</th>\n",
       "      <th>Survived_edit</th>\n",
       "      <th>Pclass_edit</th>\n",
       "      <th>Sex_edit</th>\n",
       "      <th>Cabin_edit</th>\n",
       "      <th>Embarked_edit</th>\n",
       "    </tr>\n",
       "  </thead>\n",
       "  <tbody>\n",
       "    <tr>\n",
       "      <th>0</th>\n",
       "      <td>1</td>\n",
       "      <td>0.0</td>\n",
       "      <td>0.0</td>\n",
       "      <td>Braund, Mr. Owen Harris</td>\n",
       "      <td>0.0</td>\n",
       "      <td>22.0</td>\n",
       "      <td>1</td>\n",
       "      <td>0</td>\n",
       "      <td>A/5 21171</td>\n",
       "      <td>7.2500</td>\n",
       "      <td>NaN</td>\n",
       "      <td>0.0</td>\n",
       "      <td>0.0</td>\n",
       "      <td>0.0</td>\n",
       "      <td>0.0</td>\n",
       "      <td>1</td>\n",
       "      <td>0.0</td>\n",
       "    </tr>\n",
       "    <tr>\n",
       "      <th>1</th>\n",
       "      <td>2</td>\n",
       "      <td>1.0</td>\n",
       "      <td>1.0</td>\n",
       "      <td>Cumings, Mrs. John Bradley (Florence Briggs Th...</td>\n",
       "      <td>1.0</td>\n",
       "      <td>38.0</td>\n",
       "      <td>1</td>\n",
       "      <td>0</td>\n",
       "      <td>PC 17599</td>\n",
       "      <td>71.2833</td>\n",
       "      <td>1.0</td>\n",
       "      <td>1.0</td>\n",
       "      <td>1.0</td>\n",
       "      <td>1.0</td>\n",
       "      <td>1.0</td>\n",
       "      <td>0</td>\n",
       "      <td>1.0</td>\n",
       "    </tr>\n",
       "  </tbody>\n",
       "</table>\n",
       "</div>"
      ],
      "text/plain": [
       "   PassengerId  Survived  Pclass  \\\n",
       "0            1       0.0     0.0   \n",
       "1            2       1.0     1.0   \n",
       "\n",
       "                                                Name  Sex   Age  SibSp  Parch  \\\n",
       "0                            Braund, Mr. Owen Harris  0.0  22.0      1      0   \n",
       "1  Cumings, Mrs. John Bradley (Florence Briggs Th...  1.0  38.0      1      0   \n",
       "\n",
       "      Ticket     Fare  Cabin  Embarked  Survived_edit  Pclass_edit  Sex_edit  \\\n",
       "0  A/5 21171   7.2500    NaN       0.0            0.0          0.0       0.0   \n",
       "1   PC 17599  71.2833    1.0       1.0            1.0          1.0       1.0   \n",
       "\n",
       "   Cabin_edit  Embarked_edit  \n",
       "0           1            0.0  \n",
       "1           0            1.0  "
      ]
     },
     "execution_count": 419,
     "metadata": {},
     "output_type": "execute_result"
    }
   ],
   "source": [
    "train_data_copy.head(2)"
   ]
  },
  {
   "cell_type": "code",
   "execution_count": 420,
   "metadata": {},
   "outputs": [],
   "source": [
    "x_vars.remove(\"Name\")\n",
    "x_vars.remove(\"Ticket\")\n",
    "x_vars.remove(\"Cabin\")\n",
    "x_vars.append(\"Cabin_edit\")\n",
    "x_vars.remove(\"PassengerId\")\n",
    "x_vars.remove(\"Survived\")"
   ]
  },
  {
   "cell_type": "code",
   "execution_count": 421,
   "metadata": {},
   "outputs": [
    {
     "data": {
      "text/plain": [
       "['Pclass', 'Sex', 'Age', 'SibSp', 'Parch', 'Fare', 'Embarked', 'Cabin_edit']"
      ]
     },
     "execution_count": 421,
     "metadata": {},
     "output_type": "execute_result"
    }
   ],
   "source": [
    "x_vars"
   ]
  },
  {
   "cell_type": "code",
   "execution_count": 422,
   "metadata": {},
   "outputs": [],
   "source": [
    "y_vars = ['Survived']"
   ]
  },
  {
   "cell_type": "code",
   "execution_count": 423,
   "metadata": {},
   "outputs": [],
   "source": [
    "train_data_copy = train_data_copy[x_vars + y_vars]"
   ]
  },
  {
   "cell_type": "code",
   "execution_count": 424,
   "metadata": {},
   "outputs": [
    {
     "data": {
      "text/plain": [
       "Pclass        0\n",
       "Sex           0\n",
       "Age           0\n",
       "SibSp         0\n",
       "Parch         0\n",
       "Fare          0\n",
       "Embarked      2\n",
       "Cabin_edit    0\n",
       "Survived      0\n",
       "dtype: int64"
      ]
     },
     "execution_count": 424,
     "metadata": {},
     "output_type": "execute_result"
    }
   ],
   "source": [
    "train_data_copy.isna().sum()"
   ]
  },
  {
   "cell_type": "code",
   "execution_count": 425,
   "metadata": {},
   "outputs": [],
   "source": [
    "train_data_copy  = train_data_copy.dropna()"
   ]
  },
  {
   "cell_type": "markdown",
   "metadata": {},
   "source": [
    "### Train models"
   ]
  },
  {
   "cell_type": "code",
   "execution_count": 426,
   "metadata": {},
   "outputs": [
    {
     "name": "stderr",
     "output_type": "stream",
     "text": [
      "C:\\Users\\hugo.lu\\Anaconda3\\lib\\site-packages\\sklearn\\ensemble\\bagging.py:622: DataConversionWarning: A column-vector y was passed when a 1d array was expected. Please change the shape of y to (n_samples, ), for example using ravel().\n",
      "  y = column_or_1d(y, warn=True)\n",
      "C:\\Users\\hugo.lu\\Anaconda3\\lib\\site-packages\\sklearn\\ensemble\\bagging.py:622: DataConversionWarning: A column-vector y was passed when a 1d array was expected. Please change the shape of y to (n_samples, ), for example using ravel().\n",
      "  y = column_or_1d(y, warn=True)\n",
      "C:\\Users\\hugo.lu\\Anaconda3\\lib\\site-packages\\sklearn\\ensemble\\bagging.py:622: DataConversionWarning: A column-vector y was passed when a 1d array was expected. Please change the shape of y to (n_samples, ), for example using ravel().\n",
      "  y = column_or_1d(y, warn=True)\n",
      "C:\\Users\\hugo.lu\\Anaconda3\\lib\\site-packages\\sklearn\\ensemble\\bagging.py:622: DataConversionWarning: A column-vector y was passed when a 1d array was expected. Please change the shape of y to (n_samples, ), for example using ravel().\n",
      "  y = column_or_1d(y, warn=True)\n",
      "C:\\Users\\hugo.lu\\Anaconda3\\lib\\site-packages\\sklearn\\ensemble\\bagging.py:622: DataConversionWarning: A column-vector y was passed when a 1d array was expected. Please change the shape of y to (n_samples, ), for example using ravel().\n",
      "  y = column_or_1d(y, warn=True)\n",
      "C:\\Users\\hugo.lu\\Anaconda3\\lib\\site-packages\\sklearn\\ensemble\\bagging.py:622: DataConversionWarning: A column-vector y was passed when a 1d array was expected. Please change the shape of y to (n_samples, ), for example using ravel().\n",
      "  y = column_or_1d(y, warn=True)\n",
      "C:\\Users\\hugo.lu\\Anaconda3\\lib\\site-packages\\sklearn\\ensemble\\bagging.py:622: DataConversionWarning: A column-vector y was passed when a 1d array was expected. Please change the shape of y to (n_samples, ), for example using ravel().\n",
      "  y = column_or_1d(y, warn=True)\n",
      "C:\\Users\\hugo.lu\\Anaconda3\\lib\\site-packages\\sklearn\\ensemble\\bagging.py:622: DataConversionWarning: A column-vector y was passed when a 1d array was expected. Please change the shape of y to (n_samples, ), for example using ravel().\n",
      "  y = column_or_1d(y, warn=True)\n",
      "C:\\Users\\hugo.lu\\Anaconda3\\lib\\site-packages\\sklearn\\ensemble\\bagging.py:622: DataConversionWarning: A column-vector y was passed when a 1d array was expected. Please change the shape of y to (n_samples, ), for example using ravel().\n",
      "  y = column_or_1d(y, warn=True)\n",
      "C:\\Users\\hugo.lu\\Anaconda3\\lib\\site-packages\\sklearn\\ensemble\\bagging.py:622: DataConversionWarning: A column-vector y was passed when a 1d array was expected. Please change the shape of y to (n_samples, ), for example using ravel().\n",
      "  y = column_or_1d(y, warn=True)\n",
      "C:\\Users\\hugo.lu\\Anaconda3\\lib\\site-packages\\sklearn\\ensemble\\bagging.py:622: DataConversionWarning: A column-vector y was passed when a 1d array was expected. Please change the shape of y to (n_samples, ), for example using ravel().\n",
      "  y = column_or_1d(y, warn=True)\n"
     ]
    },
    {
     "name": "stdout",
     "output_type": "stream",
     "text": [
      "accuracy :\n",
      "0.8200842696629213\n"
     ]
    }
   ],
   "source": [
    "from sklearn import model_selection \n",
    "from sklearn.ensemble import BaggingClassifier \n",
    "from sklearn.tree import DecisionTreeClassifier \n",
    "import pandas as pd \n",
    "  \n",
    "# load the data \n",
    "\n",
    "X = np.array(train_data_copy[x_vars])\n",
    "Y = np.array(train_data_copy[y_vars])\n",
    "#Y = np.reshape(Y,newshape = (len(Y),1))\n",
    "  \n",
    "seed = 8\n",
    "kfold = model_selection.KFold(n_splits = 10, \n",
    "                       random_state = seed) \n",
    "  \n",
    "# initialize the base classifier \n",
    "base_cls = DecisionTreeClassifier(min_samples_split = 10) \n",
    "  \n",
    "# no. of base classifier \n",
    "num_trees = 700\n",
    "  \n",
    "# bagging classifier \n",
    "model = BaggingClassifier(base_estimator = base_cls, \n",
    "                          n_estimators = num_trees, \n",
    "                          random_state = seed,\n",
    "                         max_samples = round(len(train_data_copy)/1.3),\n",
    "                         bootstrap = True)\n",
    "fit = model.fit(X,Y)\n",
    "  \n",
    "results = model_selection.cross_val_score(model, X, Y, cv = kfold) \n",
    "print(\"accuracy :\") \n",
    "print(results.mean()) "
   ]
  },
  {
   "cell_type": "code",
   "execution_count": 427,
   "metadata": {},
   "outputs": [],
   "source": [
    "predictions_train = ((fit.predict(X)))\n",
    "output = pd.DataFrame()\n",
    "output['y_hat'] = predictions_train\n",
    "output['y'] = Y\n",
    "output['true_positives'] = None\n",
    "output.at[(output['y'] ==1) & (output['y_hat']==1),'true_positives'] = 1\n",
    "output['true_negatives'] = None\n",
    "output.at[(output['y'] ==0) & (output['y_hat']==0),'true_negatives'] = 1\n",
    "output['false_positives'] = None\n",
    "output.at[(output['y'] ==0) & (output['y_hat']==1),'false_positives'] = 1\n",
    "output['false_negatives'] = None\n",
    "output.at[(output['y'] ==1) & (output['y_hat']==0),'false_negatives'] = 1"
   ]
  },
  {
   "cell_type": "code",
   "execution_count": 428,
   "metadata": {},
   "outputs": [
    {
     "data": {
      "text/plain": [
       "y_hat              305.0\n",
       "y                  340.0\n",
       "true_positives     281.0\n",
       "true_negatives     525.0\n",
       "false_positives     24.0\n",
       "false_negatives     59.0\n",
       "dtype: float64"
      ]
     },
     "execution_count": 428,
     "metadata": {},
     "output_type": "execute_result"
    }
   ],
   "source": [
    "output.sum()"
   ]
  },
  {
   "cell_type": "code",
   "execution_count": 429,
   "metadata": {},
   "outputs": [
    {
     "name": "stdout",
     "output_type": "stream",
     "text": [
      "the true positive rate is:0.921311475409836\n"
     ]
    }
   ],
   "source": [
    "output.sum()\n",
    "print(\"the true positive rate is:\"+str(output['true_positives'].sum()/output['y_hat'].sum()))"
   ]
  },
  {
   "cell_type": "code",
   "execution_count": 430,
   "metadata": {},
   "outputs": [
    {
     "name": "stdout",
     "output_type": "stream",
     "text": [
      "the accuracy rate on the train is:0.906636670416198\n"
     ]
    }
   ],
   "source": [
    "print(\"the accuracy rate on the train is:\"+str((output['true_negatives'].sum()+output['true_positives'].sum())/len(output)))"
   ]
  },
  {
   "cell_type": "markdown",
   "metadata": {},
   "source": [
    "## Testing the model"
   ]
  },
  {
   "cell_type": "markdown",
   "metadata": {},
   "source": [
    "#### Cleaning the test set"
   ]
  },
  {
   "cell_type": "code",
   "execution_count": 431,
   "metadata": {},
   "outputs": [],
   "source": [
    "test_data_copy = test_data.copy(deep = True)\n",
    "test_data_copy['Survived'] = None\n",
    "test_data_copy = test_data_copy.reset_index()"
   ]
  },
  {
   "cell_type": "code",
   "execution_count": 432,
   "metadata": {},
   "outputs": [
    {
     "name": "stdout",
     "output_type": "stream",
     "text": [
      "[None]\n",
      "0\n",
      "None\n",
      "[3, 2, 1]\n",
      "0\n",
      "3\n",
      "1\n",
      "2\n",
      "2\n",
      "1\n",
      "['male', 'female']\n",
      "0\n",
      "male\n",
      "1\n",
      "female\n",
      "[nan, 'B45', 'E31', 'B57 B59 B63 B66', 'B36', 'A21', 'C78', 'D34', 'D19', 'A9', 'D15', 'C31', 'C23 C25 C27', 'F G63', 'B61', 'C53', 'D43', 'C130', 'C132', 'C101', 'C55 C57', 'B71', 'C46', 'C116', 'F', 'A29', 'G6', 'C6', 'C28', 'C51', 'E46', 'C54', 'C97', 'D22', 'B10', 'F4', 'E45', 'E52', 'D30', 'B58 B60', 'E34', 'C62 C64', 'A11', 'B11', 'C80', 'F33', 'C85', 'D37', 'C86', 'D21', 'C89', 'F E46', 'A34', 'D', 'B26', 'C22 C26', 'B69', 'C32', 'B78', 'F E57', 'F2', 'A18', 'C106', 'B51 B53 B55', 'D10 D12', 'E60', 'E50', 'E39 E41', 'B52 B54 B56', 'C39', 'B24', 'D28', 'B41', 'C7', 'D40', 'D38', 'C105']\n",
      "0\n",
      "nan\n",
      "1\n",
      "B45\n",
      "2\n",
      "E31\n",
      "3\n",
      "B57 B59 B63 B66\n",
      "4\n",
      "B36\n",
      "5\n",
      "A21\n",
      "6\n",
      "C78\n",
      "7\n",
      "D34\n",
      "8\n",
      "D19\n",
      "9\n",
      "A9\n",
      "10\n",
      "D15\n",
      "11\n",
      "C31\n",
      "12\n",
      "C23 C25 C27\n",
      "13\n",
      "F G63\n",
      "14\n",
      "B61\n",
      "15\n",
      "C53\n",
      "16\n",
      "D43\n",
      "17\n",
      "C130\n",
      "18\n",
      "C132\n",
      "19\n",
      "C101\n",
      "20\n",
      "C55 C57\n",
      "21\n",
      "B71\n",
      "22\n",
      "C46\n",
      "23\n",
      "C116\n",
      "24\n",
      "F\n",
      "25\n",
      "A29\n",
      "26\n",
      "G6\n",
      "27\n",
      "C6\n",
      "28\n",
      "C28\n",
      "29\n",
      "C51\n",
      "30\n",
      "E46\n",
      "31\n",
      "C54\n",
      "32\n",
      "C97\n",
      "33\n",
      "D22\n",
      "34\n",
      "B10\n",
      "35\n",
      "F4\n",
      "36\n",
      "E45\n",
      "37\n",
      "E52\n",
      "38\n",
      "D30\n",
      "39\n",
      "B58 B60\n",
      "40\n",
      "E34\n",
      "41\n",
      "C62 C64\n",
      "42\n",
      "A11\n",
      "43\n",
      "B11\n",
      "44\n",
      "C80\n",
      "45\n",
      "F33\n",
      "46\n",
      "C85\n",
      "47\n",
      "D37\n",
      "48\n",
      "C86\n",
      "49\n",
      "D21\n",
      "50\n",
      "C89\n",
      "51\n",
      "F E46\n",
      "52\n",
      "A34\n",
      "53\n",
      "D\n",
      "54\n",
      "B26\n",
      "55\n",
      "C22 C26\n",
      "56\n",
      "B69\n",
      "57\n",
      "C32\n",
      "58\n",
      "B78\n",
      "59\n",
      "F E57\n",
      "60\n",
      "F2\n",
      "61\n",
      "A18\n",
      "62\n",
      "C106\n",
      "63\n",
      "B51 B53 B55\n",
      "64\n",
      "D10 D12\n",
      "65\n",
      "E60\n",
      "66\n",
      "E50\n",
      "67\n",
      "E39 E41\n",
      "68\n",
      "B52 B54 B56\n",
      "69\n",
      "C39\n",
      "70\n",
      "B24\n",
      "71\n",
      "D28\n",
      "72\n",
      "B41\n",
      "73\n",
      "C7\n",
      "74\n",
      "D40\n",
      "75\n",
      "D38\n",
      "76\n",
      "C105\n",
      "['Q', 'S', 'C']\n",
      "0\n",
      "Q\n",
      "1\n",
      "S\n",
      "2\n",
      "C\n"
     ]
    }
   ],
   "source": [
    "test_data_copy = make_bool(test_data_copy,bool_converts) "
   ]
  },
  {
   "cell_type": "code",
   "execution_count": 433,
   "metadata": {},
   "outputs": [
    {
     "name": "stdout",
     "output_type": "stream",
     "text": [
      "86\n",
      "86\n"
     ]
    }
   ],
   "source": [
    "test_data_copy = remove_nans(test_data_copy,\"Age\",\"kde\")\n",
    "test_data_copy['Cabin_edit'] = test_data_copy['Cabin'].apply(lambda x: 1 if np.isnan(x)else 0)"
   ]
  },
  {
   "cell_type": "code",
   "execution_count": 434,
   "metadata": {},
   "outputs": [],
   "source": [
    "test_data_copy = test_data_copy[x_vars+y_vars]"
   ]
  },
  {
   "cell_type": "code",
   "execution_count": 435,
   "metadata": {},
   "outputs": [
    {
     "data": {
      "text/plain": [
       "Pclass          0\n",
       "Sex             0\n",
       "Age             0\n",
       "SibSp           0\n",
       "Parch           0\n",
       "Fare            1\n",
       "Embarked        0\n",
       "Cabin_edit      0\n",
       "Survived      418\n",
       "dtype: int64"
      ]
     },
     "execution_count": 435,
     "metadata": {},
     "output_type": "execute_result"
    }
   ],
   "source": [
    "test_data_copy.isna().sum()"
   ]
  },
  {
   "cell_type": "code",
   "execution_count": 436,
   "metadata": {},
   "outputs": [],
   "source": [
    "test_data_copy.at[test_data_copy['Fare'].isna(),'Fare'] = test_data_copy['Fare'].mean()"
   ]
  },
  {
   "cell_type": "code",
   "execution_count": 437,
   "metadata": {},
   "outputs": [
    {
     "data": {
      "text/plain": [
       "Pclass          0\n",
       "Sex             0\n",
       "Age             0\n",
       "SibSp           0\n",
       "Parch           0\n",
       "Fare            0\n",
       "Embarked        0\n",
       "Cabin_edit      0\n",
       "Survived      418\n",
       "dtype: int64"
      ]
     },
     "execution_count": 437,
     "metadata": {},
     "output_type": "execute_result"
    }
   ],
   "source": [
    "test_data_copy.isna().sum()"
   ]
  },
  {
   "cell_type": "code",
   "execution_count": 438,
   "metadata": {},
   "outputs": [],
   "source": [
    "X_test = test_data_copy[x_vars]"
   ]
  },
  {
   "cell_type": "code",
   "execution_count": 439,
   "metadata": {},
   "outputs": [],
   "source": [
    "predictions_test = ((fit.predict(X_test)))\n",
    "output = pd.DataFrame()\n",
    "test_data_copy['Survived'] = predictions_test\n",
    "#output['y'] = Y\n"
   ]
  },
  {
   "cell_type": "code",
   "execution_count": 445,
   "metadata": {},
   "outputs": [],
   "source": [
    "output = test_data.copy(deep = True)\n",
    "output['Survived'] = test_data_copy['Survived']"
   ]
  },
  {
   "cell_type": "code",
   "execution_count": 449,
   "metadata": {},
   "outputs": [],
   "source": [
    "output = output[['PassengerId','Survived']]"
   ]
  },
  {
   "cell_type": "code",
   "execution_count": 453,
   "metadata": {},
   "outputs": [],
   "source": [
    "pd.DataFrame.to_csv(output,index = False,path_or_buf = r\"C:\\Users\\hugo.lu\\repos\\repos_backup\\Kaggles\\1. Titanic\\submission.csv\")"
   ]
  }
 ],
 "metadata": {
  "kernelspec": {
   "display_name": "Python 3",
   "language": "python",
   "name": "python3"
  },
  "language_info": {
   "codemirror_mode": {
    "name": "ipython",
    "version": 3
   },
   "file_extension": ".py",
   "mimetype": "text/x-python",
   "name": "python",
   "nbconvert_exporter": "python",
   "pygments_lexer": "ipython3",
   "version": "3.7.3"
  }
 },
 "nbformat": 4,
 "nbformat_minor": 2
}
